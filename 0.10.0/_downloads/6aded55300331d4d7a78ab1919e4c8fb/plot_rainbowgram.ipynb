{
  "cells": [
    {
      "cell_type": "code",
      "execution_count": null,
      "metadata": {
        "collapsed": false
      },
      "outputs": [],
      "source": [
        "%matplotlib inline"
      ]
    },
    {
      "cell_type": "markdown",
      "metadata": {},
      "source": [
        "\n# Rainbowgrams\n\nThis notebook demonstrates how to use \"Rainbowgrams\" to simultaneously \nvisualize amplitude and (unwrapped) phase (differential) as demonstrated in the\n[NSynth paper](https://proceedings.mlr.press/v70/engel17a/engel17a.pdf) [1]_.\n\n.. [1] Engel, Jesse, Cinjon Resnick, Adam Roberts, Sander Dieleman, Mohammad Norouzi, Douglas Eck, and Karen Simonyan.\n    \"Neural audio synthesis of musical notes with wavenet autoencoders.\"\n    In International Conference on Machine Learning, pp. 1068-1077. PMLR, 2017.\n"
      ]
    },
    {
      "cell_type": "code",
      "execution_count": null,
      "metadata": {
        "collapsed": false
      },
      "outputs": [],
      "source": [
        "# Code source: Brian McFee\n# License: ISC"
      ]
    },
    {
      "cell_type": "markdown",
      "metadata": {},
      "source": [
        "Standard imports\n\n"
      ]
    },
    {
      "cell_type": "code",
      "execution_count": null,
      "metadata": {
        "collapsed": false
      },
      "outputs": [],
      "source": [
        "import numpy as np\nimport matplotlib.pyplot as plt\nimport librosa"
      ]
    },
    {
      "cell_type": "markdown",
      "metadata": {},
      "source": [
        "We implemented a stft method to visualize the rainbowgram and demonstrated the result with a chirp signal.\nA chirp signal starts at a low frequency and gradually increases in frequency over time. We then separated the magnitude and phase components of the signal\n\n"
      ]
    },
    {
      "cell_type": "code",
      "execution_count": null,
      "metadata": {
        "collapsed": false
      },
      "outputs": [],
      "source": [
        "sr = 22050\ny = librosa.chirp(fmin=32, fmax=32 * 2**5, sr=sr, duration=10, linear=True)\nD = librosa.stft(y)\nmag, phase = librosa.magphase(D)"
      ]
    },
    {
      "cell_type": "markdown",
      "metadata": {},
      "source": [
        "We should be visualizing the demodulated phase differential derived by subtracting 2\u03c0*f*t \nfrom each phase estimate prior to unwrapping, where f and t are the frequency and time.\n\n"
      ]
    },
    {
      "cell_type": "code",
      "execution_count": null,
      "metadata": {
        "collapsed": false
      },
      "outputs": [],
      "source": [
        "freqs = librosa.fft_frequencies()\ntimes = librosa.times_like(D)\n\nphase_exp = 2*np.pi*np.multiply.outer(freqs,times)"
      ]
    },
    {
      "cell_type": "markdown",
      "metadata": {},
      "source": [
        "Plot the spectrum.\n\n"
      ]
    },
    {
      "cell_type": "code",
      "execution_count": null,
      "metadata": {
        "collapsed": false
      },
      "outputs": [],
      "source": [
        "fig, ax = plt.subplots()\nimg = librosa.display.specshow(np.diff(np.unwrap(np.angle(phase)-phase_exp, axis=1), axis=1, prepend=0),\n                         cmap='hsv', \n                         alpha=librosa.amplitude_to_db(mag, ref=np.max)/80 + 1,\n                         ax=ax,\n                         y_axis='log', \n                         x_axis='time')\nax.set_facecolor('#000')\ncbar = fig.colorbar(img, ticks=[-np.pi, -np.pi/2, 0, np.pi/2, np.pi])\ncbar.ax.set(yticklabels=['-\u03c0', '-\u03c0/2', \"0\", '\u03c0/2', '\u03c0']);\nplt.show()"
      ]
    },
    {
      "cell_type": "markdown",
      "metadata": {},
      "source": [
        "The above uses HSV colormap for phase fading to a black background. The twilight colormap \ncan also work here, with the caveat that it uses black to code the extremes of the map (ie 0). \nWe can sidestep this by using a neutral axis facecolor:\n\n"
      ]
    },
    {
      "cell_type": "code",
      "execution_count": null,
      "metadata": {
        "collapsed": false
      },
      "outputs": [],
      "source": [
        "fig, ax = plt.subplots()\nimg = librosa.display.specshow(np.diff(np.unwrap(np.angle(phase)-phase_exp, axis=1), axis=1, prepend=0),\n                         cmap='twilight', \n                         alpha=librosa.amplitude_to_db(mag, ref=np.max)/80 + 1,\n                         ax=ax,\n                         y_axis='log', \n                         x_axis='time')\nax.set_facecolor('#888')\ncbar = fig.colorbar(img, ticks=[-np.pi, -np.pi/2, 0, np.pi/2, np.pi])\ncbar.ax.set(yticklabels=['-\u03c0', '-\u03c0/2', 0, '\u03c0/2', '\u03c0'])"
      ]
    }
  ],
  "metadata": {
    "kernelspec": {
      "display_name": "Python 3",
      "language": "python",
      "name": "python3"
    },
    "language_info": {
      "codemirror_mode": {
        "name": "ipython",
        "version": 3
      },
      "file_extension": ".py",
      "mimetype": "text/x-python",
      "name": "python",
      "nbconvert_exporter": "python",
      "pygments_lexer": "ipython3",
      "version": "3.8.16"
    }
  },
  "nbformat": 4,
  "nbformat_minor": 0
}