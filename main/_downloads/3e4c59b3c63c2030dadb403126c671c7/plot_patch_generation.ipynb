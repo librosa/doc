{
  "cells": [
    {
      "cell_type": "markdown",
      "metadata": {},
      "source": [
        "\n# Efficient patch generation\n\nThis notebook demonstrates how to efficiently generate fixed-duration\nexcerpts of a signal using `librosa.util.frame`.\nThis can be helpful in machine learning applications where a model may\nexpect inputs of a certain size during training, but your data may be\nof arbitrary and variable length.\n\nAside from being a convenient helper method for patch sampling, the\n`librosa.util.frame` function can do this *efficiently* by avoiding\nmemory copies.\nThe patch array produced below is a *view* of the original data array,\nnot a copy.\n"
      ]
    },
    {
      "cell_type": "code",
      "execution_count": null,
      "metadata": {
        "collapsed": false
      },
      "outputs": [],
      "source": [
        "import numpy as np\nimport matplotlib.pyplot as plt\nimport matplotlib.animation as animation\nimport librosa"
      ]
    },
    {
      "cell_type": "markdown",
      "metadata": {},
      "source": [
        "Load an example clip\n\n"
      ]
    },
    {
      "cell_type": "code",
      "execution_count": null,
      "metadata": {
        "collapsed": false
      },
      "outputs": [],
      "source": [
        "y, sr = librosa.load(librosa.ex('libri1'))"
      ]
    },
    {
      "cell_type": "markdown",
      "metadata": {},
      "source": [
        "Compute a log-scaled Mel spectrogram\n\n"
      ]
    },
    {
      "cell_type": "code",
      "execution_count": null,
      "metadata": {
        "collapsed": false
      },
      "outputs": [],
      "source": [
        "melspec = librosa.power_to_db(librosa.feature.melspectrogram(y=y, sr=sr),\n                              ref=np.max)"
      ]
    },
    {
      "cell_type": "markdown",
      "metadata": {},
      "source": [
        "The resulting spectrogram has a number of frames\nthat depends on the length of the input signal `y`:\n\n"
      ]
    },
    {
      "cell_type": "code",
      "execution_count": null,
      "metadata": {
        "collapsed": false
      },
      "outputs": [],
      "source": [
        "print(f\"Mel spectrogram shape: {melspec.shape}\")"
      ]
    },
    {
      "cell_type": "code",
      "execution_count": null,
      "metadata": {
        "collapsed": false
      },
      "outputs": [],
      "source": [
        "fig, ax = plt.subplots()\nlibrosa.display.specshow(melspec, x_axis='time', y_axis='mel', ax=ax)\nax.set(title='Full Mel spectrogram')"
      ]
    },
    {
      "cell_type": "markdown",
      "metadata": {},
      "source": [
        "We can use librosa.util.frame to carve\n`melspec` into patches of fixed duration.\n\nIn this case, we'll make ~5-second patches\nseparated by approximately 1/10 second each.\n\n"
      ]
    },
    {
      "cell_type": "code",
      "execution_count": null,
      "metadata": {
        "collapsed": false
      },
      "outputs": [],
      "source": [
        "frame_length = librosa.time_to_frames(5.0)\nhop_length = librosa.time_to_frames(0.10)\nprint(f\"Frame length={frame_length}, hop length={hop_length}\")"
      ]
    },
    {
      "cell_type": "code",
      "execution_count": null,
      "metadata": {
        "collapsed": false
      },
      "outputs": [],
      "source": [
        "patches = librosa.util.frame(melspec,\n                             frame_length=frame_length,\n                             hop_length=hop_length)"
      ]
    },
    {
      "cell_type": "markdown",
      "metadata": {},
      "source": [
        "The resulting `patches` array is now three-dimensional,\nwith axes corresponding to [frequency, time, patch index]\n\n"
      ]
    },
    {
      "cell_type": "code",
      "execution_count": null,
      "metadata": {
        "collapsed": false
      },
      "outputs": [],
      "source": [
        "print(f\"Patch array shape: {patches.shape}\")"
      ]
    },
    {
      "cell_type": "markdown",
      "metadata": {},
      "source": [
        "So ``patches[..., 0]`` is the first 1-second patch,\n``patches[..., 1]`` is the second 1-second patch,\nand so on.  All patches will have the same shape.\n\nUnlike the framing operation used by spectrogram functions,\nthese patches are **not** centered; they are left-aligned.\nThis means that the first patch, ``patches[..., 0]``\ncorresponds to the original data ``melspec[..., 0:frame_length]``.\nThe second patch ``patches[..., 1]`` corresponds to data\n``melspec[..., hop_length:hop_length+frame_length]``,\nthe third patch ``patches[..., 2]`` corresponds to\n``melspec[..., 2*hop_length:2*hop_length+frame_length]``, etc.\n\nThe figure below illustrates the first three patches.\nBecause the overlap (1/10) is small relative to the patch length (5),\nthese patches have substantial overlap and contain mostly the same\ncontent but at different time offsets.\n\n"
      ]
    },
    {
      "cell_type": "code",
      "execution_count": null,
      "metadata": {
        "collapsed": false
      },
      "outputs": [],
      "source": [
        "fig, ax = plt.subplot_mosaic([list(\"AAA\"), list(\"012\")])\n\nlibrosa.display.specshow(melspec, x_axis='time', y_axis='mel', ax=ax[\"A\"])\nax[\"A\"].set(title='Full spectrogram', xlabel=None)\n\nfor index in [0, 1, 2]:\n    librosa.display.specshow(patches[..., index],\n                             x_axis='time', y_axis='mel',\n                             ax=ax[str(index)])\n    ax[str(index)].set(title=f\"Patch #{index}\")\n    ax[str(index)].label_outer()"
      ]
    },
    {
      "cell_type": "markdown",
      "metadata": {},
      "source": [
        "The animation below illustrates each patch in approximate\nreal time.\n\n"
      ]
    },
    {
      "cell_type": "code",
      "execution_count": null,
      "metadata": {
        "collapsed": false
      },
      "outputs": [],
      "source": [
        "# We'll plot the first patch to create the display object,\n# then animate the rest.\n\n# sphinx_gallery_thumbnail_number = 2\n\nfig, ax = plt.subplots()\nmesh = librosa.display.specshow(patches[..., 0], x_axis='time',\n                                y_axis='mel', ax=ax)\n\n\n# This helper function is used to render each frame of the animation\n# Updating the mesh object is much more efficient than rendering an\n# entirely new spectrogram for each frame!\n#\n# Note that the \"time\" axis of this figure corresponds to the time\n# within the patch; not the absolute time in the original signal.\n#\ndef _update(num):\n    mesh.set_array(patches[..., num])\n    return (mesh,)\n\n\nani = animation.FuncAnimation(fig,\n                              func=_update,\n                              frames=patches.shape[-1],\n                              interval=100,  # 100 milliseconds = 1/10 sec\n                              blit=True)"
      ]
    }
  ],
  "metadata": {
    "kernelspec": {
      "display_name": "Python 3",
      "language": "python",
      "name": "python3"
    },
    "language_info": {
      "codemirror_mode": {
        "name": "ipython",
        "version": 3
      },
      "file_extension": ".py",
      "mimetype": "text/x-python",
      "name": "python",
      "nbconvert_exporter": "python",
      "pygments_lexer": "ipython3",
      "version": "3.8.18"
    }
  },
  "nbformat": 4,
  "nbformat_minor": 0
}